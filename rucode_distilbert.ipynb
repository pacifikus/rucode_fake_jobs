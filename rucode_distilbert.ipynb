{
 "cells": [
  {
   "cell_type": "code",
   "execution_count": 75,
   "metadata": {},
   "outputs": [],
   "source": [
    "import numpy as np \n",
    "\n",
    "import pandas as pd \n",
    "pd.set_option('display.max_rows', 100)\n",
    "pd.set_option('display.max_colwidth', 1000)\n",
    "\n",
    "import matplotlib.pyplot as plt\n",
    "\n",
    "from tensorflow.keras.layers import Dense, Input\n",
    "from tensorflow.keras.optimizers import Adam\n",
    "from tensorflow.keras.models import Model\n",
    "\n",
    "import tensorflow as tf\n",
    "from tensorflow.keras import backend as K\n",
    "\n",
    "from sklearn.model_selection import train_test_split\n",
    "from sklearn.metrics import accuracy_score, f1_score\n",
    "\n",
    "from transformers import *\n",
    "from tokenizers import BertWordPieceTokenizer\n",
    "\n",
    "import re\n",
    "import random\n",
    "import time\n",
    "from tqdm import tqdm"
   ]
  },
  {
   "cell_type": "code",
   "execution_count": 34,
   "metadata": {},
   "outputs": [],
   "source": [
    "train = pd.read_csv('/kaggle/input/rucode-fake-job-postings/train_data.csv')\n",
    "test = pd.read_csv('/kaggle/input/rucode-fake-job-postings/test_data.csv')\n",
    "df = train.append(test)"
   ]
  },
  {
   "cell_type": "code",
   "execution_count": 35,
   "metadata": {},
   "outputs": [],
   "source": [
    "def seed_everything(seed):\n",
    "    random.seed(seed)\n",
    "    os.environ[\"PYTHONHASHSEED\"] = str(seed)\n",
    "    np.random.seed(seed)\n",
    "    \n",
    "SEED = 2020\n",
    "seed_everything(SEED)"
   ]
  },
  {
   "cell_type": "code",
   "execution_count": 36,
   "metadata": {},
   "outputs": [
    {
     "name": "stdout",
     "output_type": "stream",
     "text": [
      "Positive:  95.12490678598061 %\n",
      "Negative:  4.8750932140193886 %\n"
     ]
    }
   ],
   "source": [
    "print(\"Positive: \", train['Фейк'].value_counts()[0]/len(train)*100,\"%\")\n",
    "print(\"Negative: \", train['Фейк'].value_counts()[1]/len(train)*100,\"%\")"
   ]
  },
  {
   "cell_type": "markdown",
   "metadata": {},
   "source": [
    "Чтение данных и конкатенация информативных столбцов"
   ]
  },
  {
   "cell_type": "code",
   "execution_count": 37,
   "metadata": {},
   "outputs": [],
   "source": [
    "cat_to_union = ['Название', 'Описание компании', 'Описание вакансии', 'Требования', 'Соцпакет']\n",
    "for c in cat_to_union:\n",
    "    df[c] = df[c].fillna('')"
   ]
  },
  {
   "cell_type": "code",
   "execution_count": 38,
   "metadata": {},
   "outputs": [],
   "source": [
    "df['Инфо'] = df.apply(lambda r: \n",
    "                       r['Описание компании'] + ' ' +\n",
    "                       r['Описание вакансии'] + ' '\n",
    "                      + r['Требования'] + ' '\n",
    "                      + r['Соцпакет']\n",
    "                      , axis=1)"
   ]
  },
  {
   "cell_type": "code",
   "execution_count": 39,
   "metadata": {},
   "outputs": [],
   "source": [
    "X_train = df[:10728]\n",
    "X_test = df[10728:]"
   ]
  },
  {
   "cell_type": "code",
   "execution_count": 40,
   "metadata": {},
   "outputs": [],
   "source": [
    "X_train = X_train[['Инфо', 'Фейк']]\n",
    "X_test = X_test[['Инфо', 'Фейк']]"
   ]
  },
  {
   "cell_type": "code",
   "execution_count": 41,
   "metadata": {},
   "outputs": [],
   "source": [
    "X_train.columns = ['text', 'labels']\n",
    "X_test.columns = ['text', 'labels']"
   ]
  },
  {
   "cell_type": "code",
   "execution_count": 42,
   "metadata": {},
   "outputs": [],
   "source": [
    "X_train['labels'] = X_train['labels'].astype('int')"
   ]
  },
  {
   "cell_type": "code",
   "execution_count": 44,
   "metadata": {},
   "outputs": [
    {
     "data": {
      "text/html": [
       "<div>\n",
       "<style scoped>\n",
       "    .dataframe tbody tr th:only-of-type {\n",
       "        vertical-align: middle;\n",
       "    }\n",
       "\n",
       "    .dataframe tbody tr th {\n",
       "        vertical-align: top;\n",
       "    }\n",
       "\n",
       "    .dataframe thead th {\n",
       "        text-align: right;\n",
       "    }\n",
       "</style>\n",
       "<table border=\"1\" class=\"dataframe\">\n",
       "  <thead>\n",
       "    <tr style=\"text-align: right;\">\n",
       "      <th></th>\n",
       "      <th>text</th>\n",
       "      <th>labels</th>\n",
       "    </tr>\n",
       "  </thead>\n",
       "  <tbody>\n",
       "    <tr>\n",
       "      <th>0</th>\n",
       "      <td>PEI Media (#URL_4cffe430b8da4c0d7e6074d11e638d28a1e165c8782b891e111fc17606c3d961#) provides a range of highly respected publications and market leading events to its financial sector audience. The leading information provider in private capital markets, PEI Media also has a strong international presence, with offices in London, New York and Hong Kong. Seeking savvy business reporter Are you a news-hungry journalist? Have a passion for finance, a talent for breaking news, networking and developing sophisticated sources?If so, there’s an exciting full-time reporter position available with PEI Media, the leading global B2B financial publishing and information group focused exclusively on alternative asset classes.Based in Manhattan, this opening is a rare opportunity for an ambitious individual seeking to advance their career in one of the most dynamic segments of global finance.The position is tied to Agri Investor (#URL_a2fcb2906ec9e228792ec6fd689398146109ba55c512a7a9c45b9224c88c1da...</td>\n",
       "      <td>0</td>\n",
       "    </tr>\n",
       "    <tr>\n",
       "      <th>1</th>\n",
       "      <td>Roka Security is a boutique security firm that specializes in full-scale network protection and defending against advanced, targeted attacks. Our staff members have background in governmental and intelligence fields as well as large-scale data center and network deployments.We leverage our in-depth experience to aid our customers in protecting their data, and their intellectual property, andtheir customer's data, We help our clients with the full breadth of services whether it's consulting on general security issues or performing security assessments or assisting them with their latest network design or datacenter build-out. We also provide the full breadth of managed services including managed security perimeters, Managed Infrastructure / private cloud, or 24x7 security monitoring in our state-of-the-art Security Operations Center. Roka Security is looking for Software Engineers with a variety of talents.  The position is for a full time employee at our office in Herndon, Virginia...</td>\n",
       "      <td>0</td>\n",
       "    </tr>\n",
       "    <tr>\n",
       "      <th>2</th>\n",
       "      <td>Job tasks:Analyse project specifications on structural design related project items and define the scope of work;Prepare design calculations for all structural design work within the scope, budget and schedule defined at the start of the project. Main emphasis should be to minimise fabrication cost and vessel time;Prepare procedures for using and testing the installation aids and discuss these procedures with the offshore personnel responsible for the execution and the project team;Perform detailed calculations using the appropriate in-house tools;Review subcontractor equipment design and installation methods;Co-ordinate fabrication work of installation aids fabricated in-house or by a subcontractor when required;Assist the Field Engineer onshore or offshore when required during the execution phase of the project.Responsible for the hand-over to the Field Engineer;Check reports of structural design work performed within the Engineering Department. Job requirements:HTS/TU Civil Eng...</td>\n",
       "      <td>0</td>\n",
       "    </tr>\n",
       "    <tr>\n",
       "      <th>3</th>\n",
       "      <td>The Senior Publishing Specialist will be part of the Regulatory Operations Publishing Group and to ensure that dossier is prepared ready to submit to the FDA and other agencies. This includes, Publishing(Bookmarking and Hyperlinking) and Peer Reviewing different types of document like (eg Clinical Study Report, Annual Report, Protocol, Amendments, PSUR, DMF, IMPD, CRFs and eCRF Pre-Meeting packages, Labeling) Knowledge in building different types of submission. Peer Reviewing of other group members’ documents. Experience in publishing the documents globally. Knowledge in preparing Paper submission, scanning documents and Printing Desk copies (Internal or Health Authority). Experience in formatting documents as per Eisai Standards.  Minimum of 3 – 4 years experience in Regulatory Affairs publishing and reviewing the documents in a pharmaceutical environment, with strong familiarity with regulatory eCTD submission process. Must be highly proficient in Microsoft office, Adobe Acrobat...</td>\n",
       "      <td>0</td>\n",
       "    </tr>\n",
       "    <tr>\n",
       "      <th>4</th>\n",
       "      <td>BCCC Enterprises provides management consulting services for Commissionaires BC, Kinetic Security and Lexxon Training.  Position Overview As the Sales Representative your main focus will be on all aspects of the sales cycle. You are responsible for the development and retention of new business leading to revenue growth within the Fraser Valley territory. The primary focus of this position is lead generation, provide quotes on services required, close contracts and provide account management services. This position is required to be home-based, ideally in the Fraser Valley and reports to the Director of Business Development Key Responsibilities:Contribute to the financial success of the organization by coordinating and monitoring leads through the sales cycle to close.Qualify leads and generate proposals to close the sale on various services; primarily Security, Enforcement, Training, and Identification Services.Introduce new services and expand business opportunities within existi...</td>\n",
       "      <td>0</td>\n",
       "    </tr>\n",
       "    <tr>\n",
       "      <th>...</th>\n",
       "      <td>...</td>\n",
       "      <td>...</td>\n",
       "    </tr>\n",
       "    <tr>\n",
       "      <th>10723</th>\n",
       "      <td>We help teachers get safe &amp;amp; secure jobs abroad :) Play with kids, get paid for it Love travel? Jobs in Asia$1,500+ USD monthly ($200 Cost of living)Housing provided (Private/Furnished)Airfare ReimbursedExcellent for student loans/credit cardsGabriel Adkins : #URL_ed9094c60184b8a4975333957f05be37e69d3cdb68decc9dd9a4242733cfd7f7##URL_75db76d58f7994c7db24e8998c2fc953ab9a20ea9ac948b217693963f78d2e6b#12 month contract : Apply today  University degree required. TEFL / TESOL / CELTA or teaching experience preferred but not necessaryCanada/US passport holders only See job description</td>\n",
       "      <td>0</td>\n",
       "    </tr>\n",
       "    <tr>\n",
       "      <th>10724</th>\n",
       "      <td>Addy's mission is to make every delivery efficient and delightful.Trak, our first B2B product, makes it easy for businesses to manage and analyze their delivery operations. Trak includes a clean web dashboard, rich APIs, out-of-the-box driver apps for iOS and Android, and customer notifications, accurate ETAs and a map that lets recipients track their orders in real-time.Our customers include food, beverage, and grocery delivery businesses as well as local couriers.Addy is based in San Francisco, California and was accelerated by Stanford's StartX. Here at Addy we are building the easiest way for businesses to manage their delivery operations. We have an incredible team, are well funded by awesome investors, and graduated from Stanford's StartX accelerator program.Our products are meticulously engineered, and we need Account Managers to help our customers make the most of them. Our customers include grocery and beverage delivery services, restaurants, home services businesses, and ...</td>\n",
       "      <td>0</td>\n",
       "    </tr>\n",
       "    <tr>\n",
       "      <th>10725</th>\n",
       "      <td>With over 1,300 investment professionals located throughout the United States and Canada, Marcus &amp;amp; Millichap (NYSE: MMI) is a  leading specialist in commercial real estate investment sales, financing, research and advisory services. Founded in 1971, the firm closed over 6,600  transactions in 2013 with a value of approximately $24 billion.Marcus &amp;amp; Millichap has been a pioneer in the real estate investment industry and has established a reputation for maximizing value for its clients while fostering long-term relationships built on integrity, trust and service. The company has perfected a powerful system for marketing properties that combines investment specialization, local market expertise, the industry's most comprehensive research, state-of-the-art technology, and relationships with the largest pool of qualified investors. Marcus &amp;amp; Millichap also offers clients access to the most competitive real estate financing through Marcus &amp;amp; Millichap Capital Corporation (MM...</td>\n",
       "      <td>0</td>\n",
       "    </tr>\n",
       "    <tr>\n",
       "      <th>10726</th>\n",
       "      <td>For more than two decades, the TRAK Companies have been providing temporary and direct-hire professional support staff to some of the most high-powered, influential organizations in the Northern Virginia and metropolitan Washington, DC area. The TRAK Companies consist of TRAK Legal, TRAK Services, and TRAK's Records and Library Division. TRAK Legal places legal and project support staff in law firms and corporate legal departments. TRAK Services supplies executive, administrative, and conference support to corporations, associations, and other organizations. And TRAK's Records and Library Division offers experienced personnel in the information services arena. TRAK recruiters select candidates from an extensive network of highly qualified professionals, many of whom we represent on an exclusive basis. Our in-depth understanding of support roles in the business environment allows us to find the right staffing and recruiting solutions for you. TRAK Services is currently recruiting fo...</td>\n",
       "      <td>0</td>\n",
       "    </tr>\n",
       "    <tr>\n",
       "      <th>10727</th>\n",
       "      <td>Magnify Life.Progressive. Inspiring. Honest.Despite its long history, the eyewear industry has remained relatively static over time. Often considered an expensive medical necessity, buying eyewear became something people dreaded.Until JINS.Gone are the days of expensive, inconvenient, and time-consuming eyewear shopping. JINS believes that everyone should experience life’s beautiful moments in 20/20 clarity. We envision a world where affordability does not compromise style, quality, or service. This is why we constantly seek new ways to magnify our customers’ lives: we do not settle. We simply want to give eyeglass wearers the opportunity to see beyond the convention of owning only one pair of glasses. Just like any other fashion accessory, JINS’ customers can afford to buy multiple pairs of glasses in many different styles, for all of life’s different occasions.And, we would like to invite you to live this vision with us. Our Customer Advisors (sales associates) are the bread and ...</td>\n",
       "      <td>0</td>\n",
       "    </tr>\n",
       "  </tbody>\n",
       "</table>\n",
       "<p>10728 rows × 2 columns</p>\n",
       "</div>"
      ],
      "text/plain": [
       "                                                                                                                                                                                                                                                                                                                                                                                                                                                                                                                                                                                                                                                                                                                                                                                                                                                                                                                                                                                                                                          text  \\\n",
       "0      PEI Media (#URL_4cffe430b8da4c0d7e6074d11e638d28a1e165c8782b891e111fc17606c3d961#) provides a range of highly respected publications and market leading events to its financial sector audience. The leading information provider in private capital markets, PEI Media also has a strong international presence, with offices in London, New York and Hong Kong. Seeking savvy business reporter Are you a news-hungry journalist? Have a passion for finance, a talent for breaking news, networking and developing sophisticated sources?If so, there’s an exciting full-time reporter position available with PEI Media, the leading global B2B financial publishing and information group focused exclusively on alternative asset classes.Based in Manhattan, this opening is a rare opportunity for an ambitious individual seeking to advance their career in one of the most dynamic segments of global finance.The position is tied to Agri Investor (#URL_a2fcb2906ec9e228792ec6fd689398146109ba55c512a7a9c45b9224c88c1da...   \n",
       "1      Roka Security is a boutique security firm that specializes in full-scale network protection and defending against advanced, targeted attacks. Our staff members have background in governmental and intelligence fields as well as large-scale data center and network deployments.We leverage our in-depth experience to aid our customers in protecting their data, and their intellectual property, andtheir customer's data, We help our clients with the full breadth of services whether it's consulting on general security issues or performing security assessments or assisting them with their latest network design or datacenter build-out. We also provide the full breadth of managed services including managed security perimeters, Managed Infrastructure / private cloud, or 24x7 security monitoring in our state-of-the-art Security Operations Center. Roka Security is looking for Software Engineers with a variety of talents.  The position is for a full time employee at our office in Herndon, Virginia...   \n",
       "2       Job tasks:Analyse project specifications on structural design related project items and define the scope of work;Prepare design calculations for all structural design work within the scope, budget and schedule defined at the start of the project. Main emphasis should be to minimise fabrication cost and vessel time;Prepare procedures for using and testing the installation aids and discuss these procedures with the offshore personnel responsible for the execution and the project team;Perform detailed calculations using the appropriate in-house tools;Review subcontractor equipment design and installation methods;Co-ordinate fabrication work of installation aids fabricated in-house or by a subcontractor when required;Assist the Field Engineer onshore or offshore when required during the execution phase of the project.Responsible for the hand-over to the Field Engineer;Check reports of structural design work performed within the Engineering Department. Job requirements:HTS/TU Civil Eng...   \n",
       "3       The Senior Publishing Specialist will be part of the Regulatory Operations Publishing Group and to ensure that dossier is prepared ready to submit to the FDA and other agencies. This includes, Publishing(Bookmarking and Hyperlinking) and Peer Reviewing different types of document like (eg Clinical Study Report, Annual Report, Protocol, Amendments, PSUR, DMF, IMPD, CRFs and eCRF Pre-Meeting packages, Labeling) Knowledge in building different types of submission. Peer Reviewing of other group members’ documents. Experience in publishing the documents globally. Knowledge in preparing Paper submission, scanning documents and Printing Desk copies (Internal or Health Authority). Experience in formatting documents as per Eisai Standards.  Minimum of 3 – 4 years experience in Regulatory Affairs publishing and reviewing the documents in a pharmaceutical environment, with strong familiarity with regulatory eCTD submission process. Must be highly proficient in Microsoft office, Adobe Acrobat...   \n",
       "4       BCCC Enterprises provides management consulting services for Commissionaires BC, Kinetic Security and Lexxon Training.  Position Overview As the Sales Representative your main focus will be on all aspects of the sales cycle. You are responsible for the development and retention of new business leading to revenue growth within the Fraser Valley territory. The primary focus of this position is lead generation, provide quotes on services required, close contracts and provide account management services. This position is required to be home-based, ideally in the Fraser Valley and reports to the Director of Business Development Key Responsibilities:Contribute to the financial success of the organization by coordinating and monitoring leads through the sales cycle to close.Qualify leads and generate proposals to close the sale on various services; primarily Security, Enforcement, Training, and Identification Services.Introduce new services and expand business opportunities within existi...   \n",
       "...                                                                                                                                                                                                                                                                                                                                                                                                                                                                                                                                                                                                                                                                                                                                                                                                                                                                                                                                                                                                                                        ...   \n",
       "10723                                                                                                                                                                                                                                                                                                                                                                                                                               We help teachers get safe &amp; secure jobs abroad :) Play with kids, get paid for it Love travel? Jobs in Asia$1,500+ USD monthly ($200 Cost of living)Housing provided (Private/Furnished)Airfare ReimbursedExcellent for student loans/credit cardsGabriel Adkins : #URL_ed9094c60184b8a4975333957f05be37e69d3cdb68decc9dd9a4242733cfd7f7##URL_75db76d58f7994c7db24e8998c2fc953ab9a20ea9ac948b217693963f78d2e6b#12 month contract : Apply today  University degree required. TEFL / TESOL / CELTA or teaching experience preferred but not necessaryCanada/US passport holders only See job description   \n",
       "10724  Addy's mission is to make every delivery efficient and delightful.Trak, our first B2B product, makes it easy for businesses to manage and analyze their delivery operations. Trak includes a clean web dashboard, rich APIs, out-of-the-box driver apps for iOS and Android, and customer notifications, accurate ETAs and a map that lets recipients track their orders in real-time.Our customers include food, beverage, and grocery delivery businesses as well as local couriers.Addy is based in San Francisco, California and was accelerated by Stanford's StartX. Here at Addy we are building the easiest way for businesses to manage their delivery operations. We have an incredible team, are well funded by awesome investors, and graduated from Stanford's StartX accelerator program.Our products are meticulously engineered, and we need Account Managers to help our customers make the most of them. Our customers include grocery and beverage delivery services, restaurants, home services businesses, and ...   \n",
       "10725  With over 1,300 investment professionals located throughout the United States and Canada, Marcus &amp; Millichap (NYSE: MMI) is a  leading specialist in commercial real estate investment sales, financing, research and advisory services. Founded in 1971, the firm closed over 6,600  transactions in 2013 with a value of approximately $24 billion.Marcus &amp; Millichap has been a pioneer in the real estate investment industry and has established a reputation for maximizing value for its clients while fostering long-term relationships built on integrity, trust and service. The company has perfected a powerful system for marketing properties that combines investment specialization, local market expertise, the industry's most comprehensive research, state-of-the-art technology, and relationships with the largest pool of qualified investors. Marcus &amp; Millichap also offers clients access to the most competitive real estate financing through Marcus &amp; Millichap Capital Corporation (MM...   \n",
       "10726  For more than two decades, the TRAK Companies have been providing temporary and direct-hire professional support staff to some of the most high-powered, influential organizations in the Northern Virginia and metropolitan Washington, DC area. The TRAK Companies consist of TRAK Legal, TRAK Services, and TRAK's Records and Library Division. TRAK Legal places legal and project support staff in law firms and corporate legal departments. TRAK Services supplies executive, administrative, and conference support to corporations, associations, and other organizations. And TRAK's Records and Library Division offers experienced personnel in the information services arena. TRAK recruiters select candidates from an extensive network of highly qualified professionals, many of whom we represent on an exclusive basis. Our in-depth understanding of support roles in the business environment allows us to find the right staffing and recruiting solutions for you. TRAK Services is currently recruiting fo...   \n",
       "10727  Magnify Life.Progressive. Inspiring. Honest.Despite its long history, the eyewear industry has remained relatively static over time. Often considered an expensive medical necessity, buying eyewear became something people dreaded.Until JINS.Gone are the days of expensive, inconvenient, and time-consuming eyewear shopping. JINS believes that everyone should experience life’s beautiful moments in 20/20 clarity. We envision a world where affordability does not compromise style, quality, or service. This is why we constantly seek new ways to magnify our customers’ lives: we do not settle. We simply want to give eyeglass wearers the opportunity to see beyond the convention of owning only one pair of glasses. Just like any other fashion accessory, JINS’ customers can afford to buy multiple pairs of glasses in many different styles, for all of life’s different occasions.And, we would like to invite you to live this vision with us. Our Customer Advisors (sales associates) are the bread and ...   \n",
       "\n",
       "       labels  \n",
       "0           0  \n",
       "1           0  \n",
       "2           0  \n",
       "3           0  \n",
       "4           0  \n",
       "...       ...  \n",
       "10723       0  \n",
       "10724       0  \n",
       "10725       0  \n",
       "10726       0  \n",
       "10727       0  \n",
       "\n",
       "[10728 rows x 2 columns]"
      ]
     },
     "execution_count": 44,
     "metadata": {},
     "output_type": "execute_result"
    }
   ],
   "source": [
    "X_train"
   ]
  },
  {
   "cell_type": "markdown",
   "metadata": {},
   "source": [
    "Токенизация"
   ]
  },
  {
   "cell_type": "code",
   "execution_count": 45,
   "metadata": {},
   "outputs": [],
   "source": [
    "def fast_encode(texts, tokenizer, chunk_size=256, maxlen=512):\n",
    "    tokenizer.enable_truncation(max_length=maxlen)\n",
    "    tokenizer.enable_padding(max_length=maxlen)\n",
    "    all_ids = []\n",
    "    \n",
    "    for i in tqdm(range(0, len(texts), chunk_size)):\n",
    "        text_chunk = texts[i:i+chunk_size].tolist()\n",
    "        encs = tokenizer.encode_batch(text_chunk)\n",
    "        all_ids.extend([enc.ids for enc in encs])\n",
    "    \n",
    "    return np.array(all_ids)"
   ]
  },
  {
   "cell_type": "markdown",
   "metadata": {},
   "source": [
    "TPU using"
   ]
  },
  {
   "cell_type": "code",
   "execution_count": 46,
   "metadata": {},
   "outputs": [
    {
     "data": {
      "text/plain": [
       "Tokenizer(vocabulary_size=28996, model=BertWordPiece, unk_token=[UNK], sep_token=[SEP], cls_token=[CLS], pad_token=[PAD], mask_token=[MASK], clean_text=True, handle_chinese_chars=True, strip_accents=True, lowercase=False, wordpieces_prefix=##)"
      ]
     },
     "execution_count": 46,
     "metadata": {},
     "output_type": "execute_result"
    }
   ],
   "source": [
    "AUTO = tf.data.experimental.AUTOTUNE\n",
    "\n",
    "tpu = tf.distribute.cluster_resolver.TPUClusterResolver()\n",
    "tf.config.experimental_connect_to_cluster(tpu)\n",
    "tf.tpu.experimental.initialize_tpu_system(tpu)\n",
    "strategy = tf.distribute.experimental.TPUStrategy(tpu)\n",
    "\n",
    "#https://huggingface.co/distilbert-base-uncased\n",
    "fast_tokenizer = BertWordPieceTokenizer('distilbert_base_uncased/vocab.txt', lowercase=False)\n",
    "fast_tokenizer"
   ]
  },
  {
   "cell_type": "code",
   "execution_count": 47,
   "metadata": {},
   "outputs": [
    {
     "name": "stderr",
     "output_type": "stream",
     "text": [
      "100%|██████████| 34/34 [00:05<00:00,  6.21it/s]\n",
      "100%|██████████| 9/9 [00:01<00:00,  6.77it/s]\n",
      "100%|██████████| 28/28 [00:04<00:00,  6.22it/s]\n"
     ]
    }
   ],
   "source": [
    "MAX_SEQ_LENGTH = 512    \n",
    "train_df, valid_df = train_test_split(X_train, test_size=0.2, stratify=X_train.labels, shuffle=True)\n",
    "x_train = fast_encode(train_df.text.astype(str), fast_tokenizer, maxlen=MAX_SEQ_LENGTH)\n",
    "x_valid = fast_encode(valid_df.text.astype(str), fast_tokenizer, maxlen=MAX_SEQ_LENGTH)\n",
    "x_test = fast_encode(X_test.text.astype(str), fast_tokenizer, maxlen=MAX_SEQ_LENGTH)\n",
    "\n",
    "y_train = train_df.labels.values\n",
    "y_valid = valid_df.labels.values"
   ]
  },
  {
   "cell_type": "code",
   "execution_count": 48,
   "metadata": {},
   "outputs": [],
   "source": [
    "train_dataset = (\n",
    "    tf.data.Dataset\n",
    "    .from_tensor_slices((x_train, y_train))\n",
    "    .repeat()\n",
    "    .shuffle(2048)\n",
    "    .batch(64)\n",
    "    .prefetch(AUTO)\n",
    ")\n",
    "\n",
    "valid_dataset = (\n",
    "    tf.data.Dataset\n",
    "    .from_tensor_slices((x_valid, y_valid))\n",
    "    .batch(64)\n",
    "    .cache()\n",
    "    .prefetch(AUTO)\n",
    ")\n",
    "\n",
    "test_dataset = [(\n",
    "    tf.data.Dataset\n",
    "    .from_tensor_slices(x_test)\n",
    "    .batch(64)\n",
    ")]"
   ]
  },
  {
   "cell_type": "code",
   "execution_count": null,
   "metadata": {},
   "outputs": [],
   "source": [
    "def focal_loss(gamma=2., alpha=.2):\n",
    "    def focal_loss_fixed(y_true, y_pred):\n",
    "        pt_1 = tf.where(tf.equal(y_true, 1), y_pred, tf.ones_like(y_pred))\n",
    "        pt_0 = tf.where(tf.equal(y_true, 0), y_pred, tf.zeros_like(y_pred))\n",
    "        return -K.mean(alpha * K.pow(1. - pt_1, gamma) * K.log(pt_1)) - K.mean((1 - alpha) * K.pow(pt_0, gamma) * K.log(1. - pt_0))\n",
    "    return focal_loss_fixed"
   ]
  },
  {
   "cell_type": "code",
   "execution_count": 49,
   "metadata": {},
   "outputs": [],
   "source": [
    "def build_lrfn(lr_start=0.000001, lr_max=0.000004, \n",
    "               lr_min=0.0000001, lr_rampup_epochs=7, \n",
    "               lr_sustain_epochs=0, lr_exp_decay=.87):\n",
    "    lr_max = lr_max * strategy.num_replicas_in_sync\n",
    "\n",
    "    def lrfn(epoch):\n",
    "        if epoch < lr_rampup_epochs:\n",
    "            lr = (lr_max - lr_start) / lr_rampup_epochs * epoch + lr_start\n",
    "        elif epoch < lr_rampup_epochs + lr_sustain_epochs:\n",
    "            lr = lr_max\n",
    "        else:\n",
    "            lr = (lr_max - lr_min) * lr_exp_decay**(epoch - lr_rampup_epochs - lr_sustain_epochs) + lr_min\n",
    "        return lr\n",
    "    \n",
    "    return lrfn"
   ]
  },
  {
   "cell_type": "code",
   "execution_count": 50,
   "metadata": {},
   "outputs": [],
   "source": [
    "import numpy as np\n",
    "from keras.callbacks import Callback\n",
    "from sklearn.metrics import confusion_matrix, f1_score, precision_score, recall_score"
   ]
  },
  {
   "cell_type": "code",
   "execution_count": 66,
   "metadata": {},
   "outputs": [],
   "source": [
    "def build_model(transformer, loss='binary_crossentropy', max_len=512):\n",
    "    input_word_ids = Input(shape=(max_len,), dtype=tf.int32, name=\"input_word_ids\")\n",
    "    sequence_output = transformer(input_word_ids)[0]\n",
    "    cls_token = sequence_output[:, 0, :]\n",
    "    x = tf.keras.layers.Dropout(0.35)(cls_token)\n",
    "    x = tf.keras.layers.Dense(256, activation='relu')(x)\n",
    "    x = tf.keras.layers.Dropout(0.1)(x) #0.2\n",
    "    \n",
    "    out = Dense(1, activation='sigmoid')(x)\n",
    "    \n",
    "    model = Model(inputs=input_word_ids, outputs=out)\n",
    "    model.compile(Adam(lr=3e-5), loss=loss, metrics=[tf.keras.metrics.Recall(), tf.keras.metrics.Precision()]) #tf.keras.metrics.AUC()\n",
    "    \n",
    "    return model"
   ]
  },
  {
   "cell_type": "code",
   "execution_count": 52,
   "metadata": {},
   "outputs": [],
   "source": [
    "class Metrics(Callback):\n",
    "    def __init__(self, val_data):\n",
    "        super().__init__()\n",
    "        self.validation_data = val_data\n",
    "\n",
    "    def on_train_begin(self, logs={}):\n",
    "        self.val_f1s = []\n",
    "        self.val_recalls = []\n",
    "        self.val_precisions = []\n",
    "\n",
    "    def on_epoch_end(self, epoch, logs={}):\n",
    "        val_predict = (np.asarray(self.model.predict(self.validation_data[0]))).round()\n",
    "        val_targ = self.validation_data[1]\n",
    "        _val_f1 = f1_score(val_targ, val_predict, average='macro')\n",
    "        _val_recall = recall_score(val_targ, val_predict)\n",
    "        _val_precision = precision_score(val_targ, val_predict)\n",
    "        self.val_f1s.append(_val_f1)\n",
    "        self.val_recalls.append(_val_recall)\n",
    "        self.val_precisions.append(_val_precision)\n",
    "        print(\"  val_f1: %f\" %(_val_f1))\n",
    "        return\n",
    "\n",
    "metrics_callback = Metrics((x_valid, y_valid))"
   ]
  },
  {
   "cell_type": "code",
   "execution_count": 67,
   "metadata": {},
   "outputs": [
    {
     "name": "stdout",
     "output_type": "stream",
     "text": [
      "Model: \"model_3\"\n",
      "_________________________________________________________________\n",
      "Layer (type)                 Output Shape              Param #   \n",
      "=================================================================\n",
      "input_word_ids (InputLayer)  [(None, 512)]             0         \n",
      "_________________________________________________________________\n",
      "tf_bert_model_3 (TFBertModel ((None, 512, 768), (None, 108310272 \n",
      "_________________________________________________________________\n",
      "tf_op_layer_strided_slice_3  [(None, 768)]             0         \n",
      "_________________________________________________________________\n",
      "dropout_154 (Dropout)        (None, 768)               0         \n",
      "_________________________________________________________________\n",
      "dense_6 (Dense)              (None, 256)               196864    \n",
      "_________________________________________________________________\n",
      "dropout_155 (Dropout)        (None, 256)               0         \n",
      "_________________________________________________________________\n",
      "dense_7 (Dense)              (None, 1)                 257       \n",
      "=================================================================\n",
      "Total params: 108,507,393\n",
      "Trainable params: 108,507,393\n",
      "Non-trainable params: 0\n",
      "_________________________________________________________________\n"
     ]
    }
   ],
   "source": [
    "with strategy.scope():\n",
    "    transformer_layer = TFBertModel.from_pretrained('bert-base-cased')\n",
    "    model = build_model(transformer_layer, loss=focal_loss(gamma=1.4), max_len=512) #gamma=1.5\n",
    "model.summary()"
   ]
  },
  {
   "cell_type": "code",
   "execution_count": 68,
   "metadata": {},
   "outputs": [
    {
     "name": "stdout",
     "output_type": "stream",
     "text": [
      "\n",
      "Epoch 00001: LearningRateScheduler reducing learning rate to 1e-06.\n",
      "Epoch 1/20\n",
      "134/134 [==============================] - ETA: 0s - loss: 0.0467 - precision_3: 0.0535 - recall_3: 0.0404  val_f1: 0.487461\n",
      "134/134 [==============================] - 64s 480ms/step - loss: 0.0467 - precision_3: 0.0535 - recall_3: 0.0404 - val_loss: nan - val_precision_3: 0.0000e+00 - val_recall_3: 0.0000e+00 - lr: 1.0000e-06\n",
      "\n",
      "Epoch 00002: LearningRateScheduler reducing learning rate to 5.428571428571429e-06.\n",
      "Epoch 2/20\n",
      "134/134 [==============================] - ETA: 0s - loss: 0.0224 - precision_3: 0.0000e+00 - recall_3: 0.0000e+00  val_f1: 0.487461\n",
      "134/134 [==============================] - 31s 228ms/step - loss: 0.0224 - precision_3: 0.0000e+00 - recall_3: 0.0000e+00 - val_loss: nan - val_precision_3: 0.0000e+00 - val_recall_3: 0.0000e+00 - lr: 5.4286e-06\n",
      "\n",
      "Epoch 00003: LearningRateScheduler reducing learning rate to 9.857142857142859e-06.\n",
      "Epoch 3/20\n",
      "134/134 [==============================] - ETA: 0s - loss: 0.0191 - precision_3: 0.7143 - recall_3: 0.0119  val_f1: 0.487461\n",
      "134/134 [==============================] - 31s 228ms/step - loss: 0.0191 - precision_3: 0.7143 - recall_3: 0.0119 - val_loss: nan - val_precision_3: 0.0000e+00 - val_recall_3: 0.0000e+00 - lr: 9.8571e-06\n",
      "\n",
      "Epoch 00004: LearningRateScheduler reducing learning rate to 1.4285714285714289e-05.\n",
      "Epoch 4/20\n",
      "134/134 [==============================] - ETA: 0s - loss: 0.0146 - precision_3: 0.9219 - recall_3: 0.1408  val_f1: 0.649801\n",
      "134/134 [==============================] - 31s 228ms/step - loss: 0.0146 - precision_3: 0.9219 - recall_3: 0.1408 - val_loss: nan - val_precision_3: 1.0000 - val_recall_3: 0.1905 - lr: 1.4286e-05\n",
      "\n",
      "Epoch 00005: LearningRateScheduler reducing learning rate to 1.8714285714285717e-05.\n",
      "Epoch 5/20\n",
      "134/134 [==============================] - ETA: 0s - loss: 0.0097 - precision_3: 0.9294 - recall_3: 0.3901  val_f1: 0.876526\n",
      "134/134 [==============================] - 31s 228ms/step - loss: 0.0097 - precision_3: 0.9294 - recall_3: 0.3901 - val_loss: nan - val_precision_3: 0.9706 - val_recall_3: 0.6286 - lr: 1.8714e-05\n",
      "\n",
      "Epoch 00006: LearningRateScheduler reducing learning rate to 2.3142857142857145e-05.\n",
      "Epoch 6/20\n",
      "134/134 [==============================] - ETA: 0s - loss: 0.0056 - precision_3: 0.9595 - recall_3: 0.6698  val_f1: 0.893354\n",
      "134/134 [==============================] - 31s 228ms/step - loss: 0.0056 - precision_3: 0.9595 - recall_3: 0.6698 - val_loss: nan - val_precision_3: 0.9859 - val_recall_3: 0.6667 - lr: 2.3143e-05\n",
      "\n",
      "Epoch 00007: LearningRateScheduler reducing learning rate to 2.7571428571428577e-05.\n",
      "Epoch 7/20\n",
      "134/134 [==============================] - ETA: 0s - loss: 0.0042 - precision_3: 0.9649 - recall_3: 0.7639  val_f1: 0.926027\n",
      "134/134 [==============================] - 31s 229ms/step - loss: 0.0042 - precision_3: 0.9649 - recall_3: 0.7639 - val_loss: nan - val_precision_3: 0.9535 - val_recall_3: 0.7810 - lr: 2.7571e-05\n",
      "\n",
      "Epoch 00008: LearningRateScheduler reducing learning rate to 3.2e-05.\n",
      "Epoch 8/20\n",
      "134/134 [==============================] - ETA: 0s - loss: 0.0021 - precision_3: 0.9918 - recall_3: 0.8875  val_f1: 0.930110\n",
      "134/134 [==============================] - 31s 228ms/step - loss: 0.0021 - precision_3: 0.9918 - recall_3: 0.8875 - val_loss: nan - val_precision_3: 0.9878 - val_recall_3: 0.7714 - lr: 3.2000e-05\n",
      "\n",
      "Epoch 00009: LearningRateScheduler reducing learning rate to 2.7852999999999996e-05.\n",
      "Epoch 9/20\n",
      "134/134 [==============================] - ETA: 0s - loss: 0.0034 - precision_3: 0.9611 - recall_3: 0.8199  val_f1: 0.923740\n",
      "134/134 [==============================] - 31s 230ms/step - loss: 0.0034 - precision_3: 0.9611 - recall_3: 0.8199 - val_loss: nan - val_precision_3: 0.9875 - val_recall_3: 0.7524 - lr: 2.7853e-05\n",
      "\n",
      "Epoch 00010: LearningRateScheduler reducing learning rate to 2.4245109999999997e-05.\n",
      "Epoch 10/20\n",
      "134/134 [==============================] - ETA: 0s - loss: 9.0679e-04 - precision_3: 0.9949 - recall_3: 0.9515  val_f1: 0.934573\n",
      "134/134 [==============================] - 31s 229ms/step - loss: 9.0679e-04 - precision_3: 0.9949 - recall_3: 0.9515 - val_loss: nan - val_precision_3: 0.9655 - val_recall_3: 0.8000 - lr: 2.4245e-05\n",
      "\n",
      "Epoch 00011: LearningRateScheduler reducing learning rate to 2.1106245699999996e-05.\n",
      "Epoch 11/20\n",
      "134/134 [==============================] - ETA: 0s - loss: 2.6338e-04 - precision_3: 1.0000 - recall_3: 0.9905  val_f1: 0.944136\n",
      "134/134 [==============================] - 31s 228ms/step - loss: 2.6338e-04 - precision_3: 1.0000 - recall_3: 0.9905 - val_loss: nan - val_precision_3: 0.9565 - val_recall_3: 0.8381 - lr: 2.1106e-05\n",
      "\n",
      "Epoch 00012: LearningRateScheduler reducing learning rate to 1.8375433758999994e-05.\n",
      "Epoch 12/20\n",
      "134/134 [==============================] - ETA: 0s - loss: 8.2319e-05 - precision_3: 1.0000 - recall_3: 0.9951  val_f1: 0.945478\n",
      "134/134 [==============================] - 30s 227ms/step - loss: 8.2319e-05 - precision_3: 1.0000 - recall_3: 0.9951 - val_loss: nan - val_precision_3: 0.9885 - val_recall_3: 0.8190 - lr: 1.8375e-05\n",
      "\n",
      "Epoch 00013: LearningRateScheduler reducing learning rate to 1.5999627370329996e-05.\n",
      "Epoch 13/20\n",
      "134/134 [==============================] - ETA: 0s - loss: 7.7745e-05 - precision_3: 1.0000 - recall_3: 0.9977  val_f1: 0.949940\n",
      "134/134 [==============================] - 31s 228ms/step - loss: 7.7745e-05 - precision_3: 1.0000 - recall_3: 0.9977 - val_loss: nan - val_precision_3: 0.9574 - val_recall_3: 0.8571 - lr: 1.6000e-05\n",
      "\n",
      "Epoch 00014: LearningRateScheduler reducing learning rate to 1.3932675812187099e-05.\n",
      "Epoch 14/20\n",
      "134/134 [==============================] - ETA: 0s - loss: 1.4867e-05 - precision_3: 1.0000 - recall_3: 1.0000  val_f1: 0.949940\n",
      "134/134 [==============================] - 30s 227ms/step - loss: 1.4867e-05 - precision_3: 1.0000 - recall_3: 1.0000 - val_loss: nan - val_precision_3: 0.9574 - val_recall_3: 0.8571 - lr: 1.3933e-05\n",
      "\n",
      "Epoch 00015: LearningRateScheduler reducing learning rate to 1.2134427956602775e-05.\n",
      "Epoch 15/20\n",
      "134/134 [==============================] - ETA: 0s - loss: 1.3926e-04 - precision_3: 0.9951 - recall_3: 0.9951  val_f1: 0.951884\n",
      "134/134 [==============================] - 30s 227ms/step - loss: 1.3926e-04 - precision_3: 0.9951 - recall_3: 0.9951 - val_loss: nan - val_precision_3: 0.9780 - val_recall_3: 0.8476 - lr: 1.2134e-05\n",
      "\n",
      "Epoch 00016: LearningRateScheduler reducing learning rate to 1.0569952322244416e-05.\n",
      "Epoch 16/20\n",
      "134/134 [==============================] - ETA: 0s - loss: 1.0117e-05 - precision_3: 1.0000 - recall_3: 1.0000  val_f1: 0.955634\n",
      "134/134 [==============================] - 31s 228ms/step - loss: 1.0117e-05 - precision_3: 1.0000 - recall_3: 1.0000 - val_loss: nan - val_precision_3: 0.9583 - val_recall_3: 0.8762 - lr: 1.0570e-05\n",
      "\n",
      "Epoch 00017: LearningRateScheduler reducing learning rate to 9.208858520352642e-06.\n",
      "Epoch 17/20\n",
      "134/134 [==============================] - ETA: 0s - loss: 1.0905e-05 - precision_3: 1.0000 - recall_3: 1.0000  val_f1: 0.955634\n",
      "134/134 [==============================] - 31s 229ms/step - loss: 1.0905e-05 - precision_3: 1.0000 - recall_3: 1.0000 - val_loss: nan - val_precision_3: 0.9583 - val_recall_3: 0.8762 - lr: 9.2089e-06\n",
      "\n",
      "Epoch 00018: LearningRateScheduler reducing learning rate to 8.024706912706797e-06.\n",
      "Epoch 18/20\n",
      "134/134 [==============================] - ETA: 0s - loss: 1.3989e-05 - precision_3: 1.0000 - recall_3: 0.9976  val_f1: 0.956049\n",
      "134/134 [==============================] - 30s 227ms/step - loss: 1.3989e-05 - precision_3: 1.0000 - recall_3: 0.9976 - val_loss: nan - val_precision_3: 0.9490 - val_recall_3: 0.8857 - lr: 8.0247e-06\n",
      "\n",
      "Epoch 00019: LearningRateScheduler reducing learning rate to 6.994495014054913e-06.\n",
      "Epoch 19/20\n",
      "134/134 [==============================] - ETA: 0s - loss: 9.2384e-06 - precision_3: 1.0000 - recall_3: 1.0000  val_f1: 0.953681\n",
      "134/134 [==============================] - 30s 227ms/step - loss: 9.2384e-06 - precision_3: 1.0000 - recall_3: 1.0000 - val_loss: nan - val_precision_3: 0.9394 - val_recall_3: 0.8857 - lr: 6.9945e-06\n",
      "\n",
      "Epoch 00020: LearningRateScheduler reducing learning rate to 6.098210662227774e-06.\n",
      "Epoch 20/20\n",
      "134/134 [==============================] - ETA: 0s - loss: 9.7028e-06 - precision_3: 1.0000 - recall_3: 1.0000  val_f1: 0.956049\n",
      "134/134 [==============================] - 30s 227ms/step - loss: 9.7028e-06 - precision_3: 1.0000 - recall_3: 1.0000 - val_loss: nan - val_precision_3: 0.9490 - val_recall_3: 0.8857 - lr: 6.0982e-06\n",
      "CPU times: user 1min 33s, sys: 8.33 s, total: 1min 42s\n",
      "Wall time: 11min 50s\n"
     ]
    }
   ],
   "source": [
    "%%time\n",
    "lrfn = build_lrfn()\n",
    "lr_schedule = tf.keras.callbacks.LearningRateScheduler(lrfn, verbose=1)\n",
    "\n",
    "train_history = model.fit(\n",
    "    train_dataset,\n",
    "    steps_per_epoch=134,\n",
    "    validation_data=valid_dataset,\n",
    "    callbacks=[metrics_callback, lr_schedule],\n",
    "    epochs=20\n",
    ")"
   ]
  },
  {
   "cell_type": "code",
   "execution_count": 69,
   "metadata": {},
   "outputs": [],
   "source": [
    "preds_valid = model.predict(x_valid)\n",
    "preds_valid[preds_valid >= 0.5] = 1\n",
    "preds_valid[preds_valid < 0.5] = 0"
   ]
  },
  {
   "cell_type": "code",
   "execution_count": 70,
   "metadata": {},
   "outputs": [
    {
     "data": {
      "text/plain": [
       "0.9560493309576215"
      ]
     },
     "execution_count": 70,
     "metadata": {},
     "output_type": "execute_result"
    }
   ],
   "source": [
    "import sklearn.metrics as metrics\n",
    "metrics.f1_score(y_valid, preds_valid, average='macro')"
   ]
  },
  {
   "cell_type": "code",
   "execution_count": 71,
   "metadata": {},
   "outputs": [],
   "source": [
    "res = model.predict(x_test)"
   ]
  },
  {
   "cell_type": "code",
   "execution_count": 72,
   "metadata": {},
   "outputs": [],
   "source": [
    "res[res >= 0.5] = 1\n",
    "res[res < 0.5] = 0"
   ]
  },
  {
   "cell_type": "code",
   "execution_count": 73,
   "metadata": {},
   "outputs": [
    {
     "data": {
      "text/html": [
       "<div>\n",
       "<style scoped>\n",
       "    .dataframe tbody tr th:only-of-type {\n",
       "        vertical-align: middle;\n",
       "    }\n",
       "\n",
       "    .dataframe tbody tr th {\n",
       "        vertical-align: top;\n",
       "    }\n",
       "\n",
       "    .dataframe thead th {\n",
       "        text-align: right;\n",
       "    }\n",
       "</style>\n",
       "<table border=\"1\" class=\"dataframe\">\n",
       "  <thead>\n",
       "    <tr style=\"text-align: right;\">\n",
       "      <th></th>\n",
       "      <th>Id</th>\n",
       "      <th>Фейк</th>\n",
       "    </tr>\n",
       "  </thead>\n",
       "  <tbody>\n",
       "    <tr>\n",
       "      <th>0</th>\n",
       "      <td>10728</td>\n",
       "      <td>0</td>\n",
       "    </tr>\n",
       "    <tr>\n",
       "      <th>1</th>\n",
       "      <td>10729</td>\n",
       "      <td>0</td>\n",
       "    </tr>\n",
       "    <tr>\n",
       "      <th>2</th>\n",
       "      <td>10730</td>\n",
       "      <td>0</td>\n",
       "    </tr>\n",
       "    <tr>\n",
       "      <th>3</th>\n",
       "      <td>10731</td>\n",
       "      <td>0</td>\n",
       "    </tr>\n",
       "    <tr>\n",
       "      <th>4</th>\n",
       "      <td>10732</td>\n",
       "      <td>0</td>\n",
       "    </tr>\n",
       "  </tbody>\n",
       "</table>\n",
       "</div>"
      ],
      "text/plain": [
       "      Id  Фейк\n",
       "0  10728     0\n",
       "1  10729     0\n",
       "2  10730     0\n",
       "3  10731     0\n",
       "4  10732     0"
      ]
     },
     "execution_count": 73,
     "metadata": {},
     "output_type": "execute_result"
    }
   ],
   "source": [
    "result = pd.read_csv('/kaggle/input/rucode-fake-job-postings/sample_submission.csv')\n",
    "result['Фейк'] = res\n",
    "result['Фейк'] = result['Фейк'].astype('int')\n",
    "result.head()"
   ]
  },
  {
   "cell_type": "code",
   "execution_count": 74,
   "metadata": {},
   "outputs": [],
   "source": [
    "result.to_csv('result.csv', index=None)"
   ]
  }
 ],
 "metadata": {
  "kernelspec": {
   "display_name": "Python 3",
   "language": "python",
   "name": "python3"
  },
  "language_info": {
   "codemirror_mode": {
    "name": "ipython",
    "version": 3
   },
   "file_extension": ".py",
   "mimetype": "text/x-python",
   "name": "python",
   "nbconvert_exporter": "python",
   "pygments_lexer": "ipython3",
   "version": "3.7.1"
  }
 },
 "nbformat": 4,
 "nbformat_minor": 4
}
